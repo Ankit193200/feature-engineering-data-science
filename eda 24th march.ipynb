{
 "cells": [
  {
   "cell_type": "markdown",
   "id": "03c78d20-e1fa-46ed-9ada-9aa32b836a5a",
   "metadata": {},
   "source": [
    "# Q1. Wine Quality Dataset:\n",
    "\n",
    "The wine quality dataset typically includes features such as:\n",
    "\n",
    "Fixed acidity\n",
    "Volatile acidity\n",
    "Citric acid\n",
    "Residual sugar\n",
    "Chlorides\n",
    "Free sulfur dioxide\n",
    "Total sulfur dioxide\n",
    "Density\n",
    "pH\n",
    "Sulphates\n",
    "Alcohol\n",
    "The importance of each feature in predicting wine quality varies. For example, acidity levels, alcohol content, and sulfur dioxide concentrations can influence the taste and quality of wine.\n",
    "\n",
    "# Q2. Handling Missing Data:\n",
    "\n",
    "Common techniques for handling missing data include mean or median imputation, forward-fill, backward-fill, and advanced methods like k-nearest neighbors imputation. The choice depends on the nature of the data and the extent of missing values. Advantages include simplicity, but disadvantages may include bias introduced by imputing central tendencies.\n",
    "# Q3. Factors Affecting Students' Performance:\n",
    "\n",
    "Factors affecting students' performance may include study time, attendance, socioeconomic status, prior academic performance, etc. Statistical techniques like regression analysis or machine learning models can be applied to identify significant factors.\n",
    "# Q4. Feature Engineering for Student Performance:\n",
    "\n",
    "Feature engineering may involve creating new features or transforming existing ones. For example, combining study time and attendance to create a \"study effectiveness\" metric. Selection may be based on domain knowledge, correlation analysis, or feature importance from models.\n",
    "# Q5. Exploratory Data Analysis (EDA) for Wine Quality:\n",
    "\n",
    "To identify feature distributions, you can use histograms, kernel density plots, or boxplots. Features exhibiting non-normality might include residual sugar or chloride concentrations. Transformations like log-transform or Box-Cox may be applied to improve normality.\n",
    "# Q6. Principal Component Analysis (PCA) on Wine Quality:\n",
    "\n",
    "PCA is used to reduce dimensionality. The minimum number of principal components to explain 90% of the variance can be determined by examining the cumulative explained variance plot generated during PCA. The number of components needed is where the cumulative variance reaches 90%.\n",
    "\n",
    "\n",
    "\n",
    "\n",
    "\n"
   ]
  }
 ],
 "metadata": {
  "kernelspec": {
   "display_name": "Python 3 (ipykernel)",
   "language": "python",
   "name": "python3"
  },
  "language_info": {
   "codemirror_mode": {
    "name": "ipython",
    "version": 3
   },
   "file_extension": ".py",
   "mimetype": "text/x-python",
   "name": "python",
   "nbconvert_exporter": "python",
   "pygments_lexer": "ipython3",
   "version": "3.10.8"
  }
 },
 "nbformat": 4,
 "nbformat_minor": 5
}
