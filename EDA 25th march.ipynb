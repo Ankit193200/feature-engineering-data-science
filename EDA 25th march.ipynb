{
 "cells": [
  {
   "cell_type": "markdown",
   "id": "891b4704-a449-4a2b-aa73-425434e2e993",
   "metadata": {},
   "source": [
    "# Q1. Dimensions of the dataset:\n",
    "\n",
    "Use the shape attribute to get the number of rows and columns in the dataset.\n",
    "# Q2. Distribution of Flight Prices:\n",
    "\n",
    "Create a histogram using the plt.hist() function to visualize the distribution of flight prices.\n",
    "# Q3. Range of Prices:\n",
    "\n",
    "Use the min() and max() functions to find the minimum and maximum prices.\n",
    "# Q4. Price Variation by Airline:\n",
    "\n",
    "Create a boxplot using sns.boxplot() to compare the prices of different airlines.\n",
    "# Q5. Outliers:\n",
    "\n",
    "Identify outliers using the boxplot and consider their impact on the analysis.\n",
    "# Q6. Peak Travel Season:\n",
    "\n",
    "Analyze features like \"Date,\" \"Month,\" or \"Season\" to identify peak travel seasons. Present findings using line plots or bar charts.\n",
    "# Q7. Trends in Flight Prices:\n",
    "\n",
    "Analyze features like \"Date,\" \"Day of the Week,\" or \"Month\" to identify trends. Use line plots or bar charts for visualization.\n",
    "# Q8. Factors Affecting Flight Prices:\n",
    "\n",
    "Analyze features like \"Departure Time,\" \"Airline,\" \"Day of the Week,\" and \"Month.\" Use regression analysis or bar charts to present findings.\n",
    "Google Playstore Dataset:\n",
    "# Q9. Dimensions of the dataset:\n",
    "\n",
    "Use the shape attribute to get the number of rows and columns in the dataset.\n",
    "# Q10. Rating Variation by Category:\n",
    "\n",
    "Create a boxplot using sns.boxplot() to compare ratings of different app categories.\n",
    "# Q11. Missing Values:\n",
    "\n",
    "Check for missing values using isnull() and visualize using sns.heatmap().\n",
    "# Q12. Relationship between App Size and Rating:\n",
    "\n",
    "Create a scatter plot using plt.scatter() to visualize the relationship.\n",
    "# Q13. App Type and Price:\n",
    "\n",
    "Create a bar chart using sns.barplot() to compare average prices by app type.\n",
    "# Q14. Top 10 Most Popular Apps:\n",
    "\n",
    "Create a frequency table and visualize using a bar chart.\n",
    "# Q15. Popular App Categories:\n",
    "\n",
    "Analyze features like \"Category\" and \"Installs\" to identify popular app categories. Use bar charts or pie charts.\n",
    "# Q16. Successful App Developers:\n",
    "\n",
    "Analyze features like \"Developer\" and \"Number of Installs.\" Visualize using bar charts or pie charts.\n",
    "# Q17. Best Time to Launch a New App:\n",
    "\n",
    "Analyze features like \"Release Date\" and \"Number of Installs.\" Use line plots or bar charts for time trends.\n",
    "Remember to adjust the code based on the actual column names and data types in the datasets."
   ]
  }
 ],
 "metadata": {
  "kernelspec": {
   "display_name": "Python 3 (ipykernel)",
   "language": "python",
   "name": "python3"
  },
  "language_info": {
   "codemirror_mode": {
    "name": "ipython",
    "version": 3
   },
   "file_extension": ".py",
   "mimetype": "text/x-python",
   "name": "python",
   "nbconvert_exporter": "python",
   "pygments_lexer": "ipython3",
   "version": "3.10.8"
  }
 },
 "nbformat": 4,
 "nbformat_minor": 5
}
